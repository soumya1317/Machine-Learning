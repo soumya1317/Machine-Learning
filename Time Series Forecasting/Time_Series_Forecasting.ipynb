{
  "nbformat": 4,
  "nbformat_minor": 0,
  "metadata": {
    "colab": {
      "name": "Time Series Forecasting.ipynb",
      "provenance": [],
      "collapsed_sections": []
    },
    "kernelspec": {
      "name": "python3",
      "display_name": "Python 3"
    }
  },
  "cells": [
    {
      "cell_type": "markdown",
      "metadata": {
        "id": "fPBKwpsNNiXL"
      },
      "source": [
        "**Load data using pandas for Time Series Forecasting**"
      ]
    },
    {
      "cell_type": "markdown",
      "metadata": {
        "id": "lPA01A4HNvHm"
      },
      "source": [
        "Read the data"
      ]
    },
    {
      "cell_type": "code",
      "metadata": {
        "id": "JXaYVzK8MvcH",
        "cellView": "code"
      },
      "source": [
        "#@title Default title text\n",
        "#read_csv() is used to read .csv files and make DataFrames in Pandas(Python)\n",
        "from pandas import read_csv\n",
        "\n",
        "#if we use read_csv without any other specifications\n",
        "series = read_csv('daily-min-temperatures.csv')\n",
        "print(type(series))\n",
        "print(series.head())\n",
        "\n",
        "#if we want to remove the predefined indices of the DataFrame\n",
        "series = read_csv('daily-min-temperatures.csv',index_col=0)\n",
        "print(type(series))\n",
        "print(series.head())\n",
        "\n",
        "#using parse_dates parameter\n",
        "series = read_csv('daily-min-temperatures.csv',index_col=0, parse_dates=[0])\n",
        "print(type(series))\n",
        "print(series.head())\n",
        "\n",
        "#using squeeze parameter, it changes the DataFrame into a Series\n",
        "series = read_csv('daily-min-temperatures.csv',index_col=0, squeeze=True)\n",
        "print(type(series))\n",
        "print(series.head())\n",
        "series = read_csv('daily-min-temperatures.csv',index_col=1, squeeze=True)\n",
        "print(type(series))\n",
        "print(series.head())\n",
        "\n",
        "#using header\n",
        "series = read_csv('daily-min-temperatures.csv',index_col=0, header=0)\n",
        "print(type(series))\n",
        "print(series.head())\n",
        "\n",
        "series = read_csv('daily-min-temperatures.csv',index_col=0, header=1)\n",
        "print(type(series))\n",
        "print(series.head())"
      ],
      "execution_count": null,
      "outputs": []
    },
    {
      "cell_type": "markdown",
      "metadata": {
        "id": "yz3adhjVUkFJ"
      },
      "source": [
        "deescribe() function"
      ]
    },
    {
      "cell_type": "code",
      "metadata": {
        "id": "VwGkYAhVUnjo"
      },
      "source": [
        "from pandas import read_csv\n",
        "series = read_csv('daily-min-temperatures.csv',index_col=0, header=0)\n",
        "series.describe()\n"
      ],
      "execution_count": null,
      "outputs": []
    },
    {
      "cell_type": "markdown",
      "metadata": {
        "id": "BRL1eQlGN0w2"
      },
      "source": [
        "Plot the Data"
      ]
    },
    {
      "cell_type": "code",
      "metadata": {
        "id": "jMA0fSpIQ1X_"
      },
      "source": [
        "from pandas import read_csv\n",
        "from matplotlib import pyplot\n",
        "series = read_csv('daily-min-temperatures.csv',index_col=0, header=0)\n",
        "series.plot()\n",
        "pyplot.show()\n",
        "\n",
        "series.hist()\n",
        "pyplot.show()\n",
        "\n"
      ],
      "execution_count": null,
      "outputs": []
    },
    {
      "cell_type": "markdown",
      "metadata": {
        "id": "7Nh02pP6lsMK"
      },
      "source": [
        "**Standardization and Normalization of data**"
      ]
    },
    {
      "cell_type": "markdown",
      "metadata": {
        "id": "ZbSZ7uIBNtZn"
      },
      "source": [
        "Normalization of Data using scikit-lean MinMaxScaler\n",
        "\n",
        "Y= (X-min)/(max-min)"
      ]
    },
    {
      "cell_type": "code",
      "metadata": {
        "id": "moNg5AdUJG1r"
      },
      "source": [
        "# Normalize time series data\n",
        "from pandas import read_csv\n",
        "from sklearn.preprocessing import MinMaxScaler\n",
        "\n",
        "# load the dataset and print the first 5 rows\n",
        "series = read_csv('daily-min-temperatures.csv', header=0, index_col=0)\n",
        "print(series.head())\n",
        "\n",
        "# prepare data for normalization\n",
        "values = series.values\n",
        "#values = values.reshape((len(values), 1))\n",
        "\n",
        "# train the normalization\n",
        "scaler = MinMaxScaler(feature_range=(0,1)) \n",
        "'''\n",
        "feature_range=(x,y) describes the range in which the data is to be normalized, \n",
        "for eg in this case the all data would be normalized between 0 an 1\n",
        "'''\n",
        "scaler = scaler.fit(values)\n",
        "\n",
        "print()\n",
        "print('Min: %f, Max: %f' % (scaler.data_min_, scaler.data_max_))\n",
        "print()\n",
        "\n",
        "# normalize the dataset and print the first 5 rows\n",
        "normalized = scaler.transform(values)\n",
        "print(\"Normalized Data\")\n",
        "for i in range(5):\n",
        "\tprint(normalized[i])\n",
        " \n",
        "# inverse transform and print the first 5 rows\n",
        "inversed = scaler.inverse_transform(normalized)\n",
        "print()\n",
        "print(\"Original Data\")\n",
        "for i in range(5):\n",
        "\tprint(inversed[i])"
      ],
      "execution_count": null,
      "outputs": []
    },
    {
      "cell_type": "markdown",
      "metadata": {
        "id": "vTVutrDCkzk2"
      },
      "source": [
        "Standardization of data using skicit-learn StandardScaler\n"
      ]
    },
    {
      "cell_type": "code",
      "metadata": {
        "id": "_zQvZFD3lCeG"
      },
      "source": [
        "# Standardize time series data\n",
        "from pandas import read_csv\n",
        "from sklearn.preprocessing import StandardScaler\n",
        "from math import sqrt\n",
        "\n",
        "# load the dataset and print the first 5 rows\n",
        "series = read_csv('daily-min-temperatures.csv', header=0, index_col=0)\n",
        "print(series.head())\n",
        "\n",
        "# prepare data for standardization\n",
        "values = series.values\n",
        "values = values.reshape((len(values), 1))\n",
        "\n",
        "# train the standardization\n",
        "scaler = StandardScaler()\n",
        "scaler = scaler.fit(values)\n",
        "\n",
        "print('Mean: %f, StandardDeviation: %f' % (scaler.mean_, sqrt(scaler.var_)))\n",
        "\n",
        "# standardization the dataset and print the first 5 rows\n",
        "normalized = scaler.transform(values)\n",
        "for i in range(5):\n",
        "\tprint(normalized[i])\n",
        " \n",
        "# inverse transform and print the first 5 rows\n",
        "inversed = scaler.inverse_transform(normalized)\n",
        "for i in range(5):\n",
        "\tprint(inversed[i])"
      ],
      "execution_count": null,
      "outputs": []
    },
    {
      "cell_type": "markdown",
      "metadata": {
        "id": "elRaVz_ktJQM"
      },
      "source": [
        "**Basic Feature Engineering With Time Series Forecasting**"
      ]
    },
    {
      "cell_type": "markdown",
      "metadata": {
        "id": "8Ziy9IWu8d3-"
      },
      "source": [
        "Date Time Features"
      ]
    },
    {
      "cell_type": "code",
      "metadata": {
        "id": "Iph8pk7ey5lG",
        "outputId": "a7e46166-0e7f-432e-8f30-88c762912b3a",
        "colab": {
          "base_uri": "https://localhost:8080/",
          "height": 204
        }
      },
      "source": [
        "#read_csv() is used to read .csv files and make DataFrames in Pandas(Python)\n",
        "from pandas import read_csv\n",
        "from pandas import DataFrame\n",
        "\n",
        "#if we use read_csv without any other specifications\n",
        "series = read_csv('daily-min-temperatures.csv',index_col=0,squeeze=True, header=0,parse_dates=True)\n",
        "\n",
        "dataframe= DataFrame()\n",
        "dataframe['month']=[series.index[i].month for i in range(len(series))]\n",
        "dataframe['day']=[series.index[i].day for i in range(len(series))]\n",
        "dataframe['temp']=[series[i] for i in range(len(series))]\n",
        "\n",
        "dataframe.head()\n",
        "\n"
      ],
      "execution_count": null,
      "outputs": [
        {
          "output_type": "execute_result",
          "data": {
            "text/html": [
              "<div>\n",
              "<style scoped>\n",
              "    .dataframe tbody tr th:only-of-type {\n",
              "        vertical-align: middle;\n",
              "    }\n",
              "\n",
              "    .dataframe tbody tr th {\n",
              "        vertical-align: top;\n",
              "    }\n",
              "\n",
              "    .dataframe thead th {\n",
              "        text-align: right;\n",
              "    }\n",
              "</style>\n",
              "<table border=\"1\" class=\"dataframe\">\n",
              "  <thead>\n",
              "    <tr style=\"text-align: right;\">\n",
              "      <th></th>\n",
              "      <th>month</th>\n",
              "      <th>day</th>\n",
              "      <th>temp</th>\n",
              "    </tr>\n",
              "  </thead>\n",
              "  <tbody>\n",
              "    <tr>\n",
              "      <th>0</th>\n",
              "      <td>1</td>\n",
              "      <td>1</td>\n",
              "      <td>20.7</td>\n",
              "    </tr>\n",
              "    <tr>\n",
              "      <th>1</th>\n",
              "      <td>1</td>\n",
              "      <td>2</td>\n",
              "      <td>17.9</td>\n",
              "    </tr>\n",
              "    <tr>\n",
              "      <th>2</th>\n",
              "      <td>1</td>\n",
              "      <td>3</td>\n",
              "      <td>18.8</td>\n",
              "    </tr>\n",
              "    <tr>\n",
              "      <th>3</th>\n",
              "      <td>1</td>\n",
              "      <td>4</td>\n",
              "      <td>14.6</td>\n",
              "    </tr>\n",
              "    <tr>\n",
              "      <th>4</th>\n",
              "      <td>1</td>\n",
              "      <td>5</td>\n",
              "      <td>15.8</td>\n",
              "    </tr>\n",
              "  </tbody>\n",
              "</table>\n",
              "</div>"
            ],
            "text/plain": [
              "   month  day  temp\n",
              "0      1    1  20.7\n",
              "1      1    2  17.9\n",
              "2      1    3  18.8\n",
              "3      1    4  14.6\n",
              "4      1    5  15.8"
            ]
          },
          "metadata": {
            "tags": []
          },
          "execution_count": 8
        }
      ]
    },
    {
      "cell_type": "markdown",
      "metadata": {
        "id": "Ys2ecKVA8-WE"
      },
      "source": [
        "Lag Features"
      ]
    },
    {
      "cell_type": "code",
      "metadata": {
        "id": "1-NM6t8m893L"
      },
      "source": [
        "from pandas import read_csv\n",
        "from pandas import concat\n",
        "from pandas import DataFrame\n",
        "\n",
        "series=read_csv('daily-min-temperatures.csv',index_col=0,header=0,squeeze=True)\n",
        "\n",
        "print(series.values)\n",
        "\n",
        "temps= DataFrame(series.values)\n",
        "dataframe=concat([temps.shift(1),temps],axis=1)\n",
        "dataframe.columns=['t-1', 't+1']\n",
        "\n",
        "dataframe.head()\n"
      ],
      "execution_count": null,
      "outputs": []
    },
    {
      "cell_type": "markdown",
      "metadata": {
        "id": "DUadNfxzSW16"
      },
      "source": [
        "Persistence Alogrithm/ Naive Method"
      ]
    },
    {
      "cell_type": "code",
      "metadata": {
        "id": "Qvn4uZ65SWCN",
        "outputId": "e845b665-34ca-44b5-d8de-4ff803d35f06",
        "colab": {
          "base_uri": "https://localhost:8080/",
          "height": 447
        }
      },
      "source": [
        "from pandas import read_csv\n",
        "from pandas import datetime\n",
        "from matplotlib import pyplot\n",
        "from pandas import DataFrame\n",
        "\n",
        "def parser(x):\n",
        "  return datetime.strptime('190'+x, '%Y-%m')\n",
        "\n",
        "\n",
        "series= read_csv('shampoo.csv',index_col=0, parse_dates=True, header=0, squeeze=True, date_parser=parser)\n",
        "series.plot()\n",
        "pyplot.show()\n",
        "\n",
        "values=DataFrame(series.values)\n",
        "dataframe= concat([values.shift(1),values],axis=1)\n",
        "dataframe.columns=['t-1','t+1']\n",
        "print(dataframe.head())\n",
        "\n",
        "def predict(x):\n",
        "  return x\n"
      ],
      "execution_count": null,
      "outputs": [
        {
          "output_type": "stream",
          "text": [
            "/usr/local/lib/python3.6/dist-packages/ipykernel_launcher.py:7: FutureWarning: The pandas.datetime class is deprecated and will be removed from pandas in a future version. Import from datetime instead.\n",
            "  import sys\n"
          ],
          "name": "stderr"
        },
        {
          "output_type": "display_data",
          "data": {
            "image/png": "[encoded data removed]",
            "text/plain": [
              "<Figure size 432x288 with 1 Axes>"
            ]
          },
          "metadata": {
            "tags": [],
            "needs_background": "light"
          }
        },
        {
          "output_type": "stream",
          "text": [
            "     t-1    t+1\n",
            "0    NaN  266.0\n",
            "1  266.0  145.9\n",
            "2  145.9  183.1\n",
            "3  183.1  119.3\n",
            "4  119.3  180.3\n"
          ],
          "name": "stdout"
        }
      ]
    }
  ]
}