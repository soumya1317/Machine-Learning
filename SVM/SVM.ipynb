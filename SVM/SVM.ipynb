{
  "nbformat": 4,
  "nbformat_minor": 0,
  "metadata": {
    "colab": {
      "name": "SVM.ipynb",
      "provenance": [],
      "collapsed_sections": []
    },
    "kernelspec": {
      "name": "python3",
      "display_name": "Python 3"
    }
  },
  "cells": [
    {
      "cell_type": "markdown",
      "metadata": {
        "id": "IACTtOXhgP1T"
      },
      "source": [
        "**Linear SVM**"
      ]
    },
    {
      "cell_type": "code",
      "metadata": {
        "id": "HCBDY88WiBU_"
      },
      "source": [
        "import numpy as np\n",
        "from sklearn import datasets\n",
        "from sklearn.pipeline import Pipeline\n",
        "from sklearn.preprocessing import StandardScaler\n",
        "from sklearn.svm import LinearSVC\n",
        "import matplotlib.pyplot as plt\n"
      ],
      "execution_count": 11,
      "outputs": []
    },
    {
      "cell_type": "code",
      "metadata": {
        "id": "OKv5qYNOsto3"
      },
      "source": [
        "def make_meshgrid(x, y, h=.02):\n",
        "    x_min, x_max = x.min() - 1, x.max() + 1\n",
        "    y_min, y_max = y.min() - 1, y.max() + 1\n",
        "    xx, yy = np.meshgrid(np.arange(x_min, x_max, h), np.arange(y_min, y_max, h))\n",
        "    return xx, yy\n",
        "\n",
        "def plot_contours(ax, clf, xx, yy, **params):\n",
        "    Z = clf.predict(np.c_[xx.ravel(), yy.ravel()])\n",
        "    Z = Z.reshape(xx.shape)\n",
        "    out = ax.contourf(xx, yy, Z, **params)\n",
        "    return out"
      ],
      "execution_count": 9,
      "outputs": []
    },
    {
      "cell_type": "code",
      "metadata": {
        "id": "5pSJ4ybxkmIy"
      },
      "source": [
        "iris = datasets.load_iris()\n",
        "X = iris[\"data\"][:,(2,3)] # petal length, petal width\n",
        "\n",
        "y=(iris[\"target\"]==2).astype(np.float64)\n",
        "\n",
        "svm_clf = Pipeline((\n",
        "    (\"scaler\", StandardScaler()),\n",
        "    (\"linear_svc\", LinearSVC(C=1,loss=\"hinge\")),\n",
        "))\n",
        "\n",
        "svm_clf.fit(X, y)\n",
        "\n",
        "svm_clf.predict([[5.5,1.7]])"
      ],
      "execution_count": null,
      "outputs": []
    },
    {
      "cell_type": "code",
      "metadata": {
        "id": "TEfYZ4Chs2E9",
        "outputId": "6e76b62d-c487-42e6-9d4e-b0b787e36017",
        "colab": {
          "base_uri": "https://localhost:8080/",
          "height": 295
        }
      },
      "source": [
        "fig, ax = plt.subplots()\n",
        "# title for the plots\n",
        "title = ('Decision surface of linear SVC ')\n",
        "# Set-up grid for plotting.\n",
        "X0, X1 = X[:, 0], X[:, 1]\n",
        "xx, yy = make_meshgrid(X0, X1)\n",
        "\n",
        "plot_contours(ax, svm_clf, xx, yy, cmap=plt.cm.coolwarm, alpha=0.8)\n",
        "ax.scatter(X0, X1, c=y, cmap=plt.cm.coolwarm, s=20, edgecolors='k')\n",
        "ax.set_ylabel('y label here')\n",
        "ax.set_xlabel('x label here')\n",
        "ax.set_xticks(())\n",
        "ax.set_yticks(())\n",
        "ax.set_title(title)\n",
        "ax.legend()\n",
        "plt.show()"
      ],
      "execution_count": 13,
      "outputs": [
        {
          "output_type": "stream",
          "text": [
            "No handles with labels found to put in legend.\n"
          ],
          "name": "stderr"
        },
        {
          "output_type": "display_data",
          "data": {
            "image/png": "[encoded data removed]",
            "text/plain": [
              "<Figure size 432x288 with 1 Axes>"
            ]
          },
          "metadata": {
            "tags": []
          }
        }
      ]
    },
    {
      "cell_type": "markdown",
      "metadata": {
        "id": "sZ-ltGyjgO2-"
      },
      "source": [
        "**Non Linear SVM**"
      ]
    },
    {
      "cell_type": "code",
      "metadata": {
        "id": "hDDvuJ71hxvk",
        "outputId": "f7052a8c-2862-43aa-cc26-2892120f91e2",
        "colab": {
          "base_uri": "https://localhost:8080/"
        }
      },
      "source": [
        "from sklearn.datasets import make_moons\n",
        "from sklearn.pipeline import Pipeline\n",
        "from sklearn.preprocessing import PolynomialFeatures\n",
        "\n",
        "polynomial_svm_clf = Pipeline((\n",
        " (\"poly_features\", PolynomialFeatures(degree=3)),\n",
        " (\"scaler\", StandardScaler()),\n",
        " (\"svm_clf\", LinearSVC(C=10, loss=\"hinge\"))\n",
        " ))\n",
        "polynomial_svm_clf.fit(X, y)"
      ],
      "execution_count": 14,
      "outputs": [
        {
          "output_type": "execute_result",
          "data": {
            "text/plain": [
              "Pipeline(memory=None,\n",
              "         steps=[('poly_features',\n",
              "                 PolynomialFeatures(degree=3, include_bias=True,\n",
              "                                    interaction_only=False, order='C')),\n",
              "                ('scaler',\n",
              "                 StandardScaler(copy=True, with_mean=True, with_std=True)),\n",
              "                ('svm_clf',\n",
              "                 LinearSVC(C=10, class_weight=None, dual=True,\n",
              "                           fit_intercept=True, intercept_scaling=1,\n",
              "                           loss='hinge', max_iter=1000, multi_class='ovr',\n",
              "                           penalty='l2', random_state=None, tol=0.0001,\n",
              "                           verbose=0))],\n",
              "         verbose=False)"
            ]
          },
          "metadata": {
            "tags": []
          },
          "execution_count": 14
        }
      ]
    },
    {
      "cell_type": "code",
      "metadata": {
        "id": "rCeSxfHeuQeK",
        "outputId": "2e02e54d-7195-4041-ee91-0b3544c2b6a0",
        "colab": {
          "base_uri": "https://localhost:8080/",
          "height": 295
        }
      },
      "source": [
        "fig, ax = plt.subplots()\n",
        "# title for the plots\n",
        "title = ('Decision surface of linear SVC ')\n",
        "# Set-up grid for plotting.\n",
        "X0, X1 = X[:, 0], X[:, 1]\n",
        "xx, yy = make_meshgrid(X0, X1)\n",
        "\n",
        "plot_contours(ax, polynomial_svm_clf, xx, yy, cmap=plt.cm.coolwarm, alpha=0.8)\n",
        "ax.scatter(X0, X1, c=y, cmap=plt.cm.coolwarm, s=20, edgecolors='k')\n",
        "ax.set_ylabel('y label here')\n",
        "ax.set_xlabel('x label here')\n",
        "ax.set_xticks(())\n",
        "ax.set_yticks(())\n",
        "ax.set_title(title)\n",
        "ax.legend()\n",
        "plt.show()"
      ],
      "execution_count": 15,
      "outputs": [
        {
          "output_type": "stream",
          "text": [
            "No handles with labels found to put in legend.\n"
          ],
          "name": "stderr"
        },
        {
          "output_type": "display_data",
          "data": {
            "image/png": "[encoded data removed]",
            "text/plain": [
              "<Figure size 432x288 with 1 Axes>"
            ]
          },
          "metadata": {
            "tags": []
          }
        }
      ]
    },
    {
      "cell_type": "markdown",
      "metadata": {
        "id": "Z8elnjYkuFnG"
      },
      "source": [
        "**SVM using Kernels**"
      ]
    },
    {
      "cell_type": "markdown",
      "metadata": {
        "id": "GxmGs4MYwrhc"
      },
      "source": [
        "Polynomial Kernel"
      ]
    },
    {
      "cell_type": "code",
      "metadata": {
        "id": "fvPnLiirlxA0"
      },
      "source": [
        "from sklearn.svm import SVC\n",
        "poly_kernel_svm_clf = Pipeline((\n",
        " (\"scaler\", StandardScaler()),\n",
        " (\"svm_clf\", SVC(kernel=\"poly\", degree=3, coef0=1, C=5))\n",
        " ))\n",
        "poly_kernel_svm_clf.fit(X, y)\n"
      ],
      "execution_count": 13,
      "outputs": []
    },
    {
      "cell_type": "markdown",
      "metadata": {
        "id": "GwC3P-nkwzWO"
      },
      "source": [
        "Gussian RBF Kernel"
      ]
    },
    {
      "cell_type": "code",
      "metadata": {
        "id": "rUYGbV5rvQTr"
      },
      "source": [
        "rbf_kernel_svm_clf = Pipeline((\n",
        " (\"scaler\", StandardScaler()),\n",
        " (\"svm_clf\", SVC(kernel=\"rbf\", gamma=5, C=0.001))\n",
        " ))\n",
        "rbf_kernel_svm_clf.fit(X, y)"
      ],
      "execution_count": null,
      "outputs": []
    }
  ]
}